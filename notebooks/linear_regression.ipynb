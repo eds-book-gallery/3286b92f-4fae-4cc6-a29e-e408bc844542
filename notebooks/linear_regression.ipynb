{
 "cells": [
  {
   "cell_type": "code",
   "execution_count": 1,
   "id": "31b3d2a0-bf99-4f80-8b72-e1b462afde97",
   "metadata": {
    "tags": []
   },
   "outputs": [],
   "source": [
    "import sys\n",
    "sys.path.append('../src/general/')\n",
    "import CreateDataName as cn\n",
    "import AssessModelModified as am\n",
    "import plotting as rfplt\n",
    "import ReadRoutinesModified as rr\n",
    "\n",
    "import numpy as np\n",
    "import matplotlib.pyplot as plt\n",
    "import pickle\n",
    "\n",
    "from sklearn import linear_model\n",
    "from sklearn.model_selection import GridSearchCV\n",
    "\n",
    "import gc\n",
    "\n",
    "import os\n"
   ]
  },
  {
   "cell_type": "code",
   "execution_count": 2,
   "id": "99f0d127-e729-479f-8d00-161fbe19f670",
   "metadata": {
    "tags": []
   },
   "outputs": [],
   "source": [
    "plt.rcParams.update({'font.size': 10})\n",
    "plt.rc('font', family='sans serif')\n",
    "plt.rc('xtick', labelsize='x-small')\n",
    "plt.rc('ytick', labelsize='x-small')"
   ]
  },
  {
   "cell_type": "code",
   "execution_count": 3,
   "id": "54b8198d-fed6-463f-845d-3e6c364644db",
   "metadata": {
    "tags": []
   },
   "outputs": [
    {
     "name": "stdout",
     "output_type": "stream",
     "text": [
      "run_vars; {'dimension': 3, 'lat': True, 'lon': True, 'dep': True, 'current': True, 'bolus_vel': True, 'sal': True, 'eta': True, 'density': True, 'poly_degree': 1, 'StepSize': 1, 'predict': 'DelT'}\n",
      "model_prefix ; alpha.001_\n"
     ]
    }
   ],
   "source": [
    "run_vars = {'dimension':3, 'lat':True , 'lon':True , 'dep':True , 'current':True , 'bolus_vel':True , 'sal':True , 'eta':True , 'density':True , 'poly_degree':1, 'StepSize':1, 'predict':'DelT'}\n",
    "data_prefix = ''\n",
    "model_prefix = 'alpha.001_'\n",
    "\n",
    "TrainModel = True  \n",
    "\n",
    "DIR = '../../data/raw/'    \n",
    "MITGCM_filename=DIR+'cat_tave.nc'\n",
    "density_file = DIR+'DensityData.npy'\n",
    "clim_filename = DIR+'ncra_cat_tave.nc'\n",
    "\n",
    "print('run_vars; '+str(run_vars))\n",
    "print('model_prefix ; '+str(model_prefix))"
   ]
  },
  {
   "cell_type": "code",
   "execution_count": 4,
   "id": "7dda4108-ba7a-434b-9630-460c99000593",
   "metadata": {
    "tags": []
   },
   "outputs": [
    {
     "name": "stdout",
     "output_type": "stream",
     "text": [
      "Model name: alpha.001_3dLatLonDepUVBolSalEtaDnsPolyDeg1_Step1_PredictDelT\n"
     ]
    }
   ],
   "source": [
    "data_name = data_prefix + cn.create_dataname(run_vars)\n",
    "model_name = model_prefix+data_name\n",
    "print(f\"Model name: {model_name}\")"
   ]
  },
  {
   "cell_type": "code",
   "execution_count": 5,
   "id": "849d275e-f095-4d49-90a3-05e597234452",
   "metadata": {
    "tags": []
   },
   "outputs": [
    {
     "name": "stdout",
     "output_type": "stream",
     "text": [
      "reading in data\n",
      "(18000, 42, 78, 11)\n",
      "0\n",
      "200\n",
      "400\n",
      "600\n",
      "800\n",
      "1000\n",
      "1200\n",
      "1400\n",
      "1600\n",
      "1800\n",
      "2000\n",
      "2200\n",
      "2400\n",
      "2600\n",
      "2800\n",
      "3000\n",
      "3200\n",
      "3400\n",
      "3600\n",
      "3800\n",
      "4000\n",
      "4200\n",
      "4400\n",
      "4600\n",
      "4800\n",
      "5000\n",
      "5200\n",
      "5400\n",
      "5600\n",
      "5800\n",
      "6000\n",
      "6200\n",
      "6400\n",
      "6600\n",
      "6800\n",
      "7000\n",
      "7200\n",
      "7400\n",
      "*********************************\n",
      "Number of training & validation samples > 0.0005: [171979], [52235]\n",
      "Number of training & validation samples > 0.001:  [111033], [34604]\n",
      "Number of training & validation samples > 0.002:  [82846], [25565]\n",
      "Number of training & validation samples > 0.0025: [76097], [23495]\n",
      "Number of training & validation samples > 0.003:  [70810], [22054]\n",
      "Number of training & validation samples > 0.004:  [62849], [19632]\n",
      "Number of training & validation samples > 0.005:  [56885], [17853]\n",
      "*********************************\n",
      "highest and lowest values in training data:   0.26704645, -0.23875284\n",
      "highest and lowest values in validation data: 0.23960555, -0.26727915\n",
      "mean of train and val sets : -5.388849e-05, 0.0001357027\n",
      "std  of train and val sets : 0.01036672, 0.011045901\n",
      "skew of train and val sets : [-1.0299234], [-0.20501705]\n",
      "kurtosis of train and val sets : [101.97883], [98.24192]\n",
      "normalise\n",
      "shape for inputs and outputs: tr; val; te\n",
      "(648440, 228) (648440, 1)\n",
      "(199520, 228) (199520, 1)\n",
      "(99760, 228) (99760, 1)\n",
      "shape for orig_Temp and clim_Temp, tr&val\n",
      "(648440, 1) (199520, 1)\n",
      "(648440, 1) (199520, 1)\n"
     ]
    }
   ],
   "source": [
    "print('reading in data')\n",
    "norm_inputs_tr, norm_inputs_val, norm_inputs_te, norm_outputs_DelT_tr, norm_outputs_DelT_val, norm_outputs_DelT_te, \\\n",
    "norm_outputs_Temp_tr, norm_outputs_Temp_val, norm_outputs_Temp_te, orig_temp_tr, orig_temp_val, clim_temp_tr, clim_temp_val \\\n",
    "          = rr.ReadMITGCM(MITGCM_filename, clim_filename, density_file, 0.7, 0.9, data_name, run_vars, plot_histograms=False)\n",
    "del norm_inputs_te\n",
    "del norm_outputs_DelT_te\n",
    "del norm_outputs_Temp_te"
   ]
  },
  {
   "cell_type": "code",
   "execution_count": 6,
   "id": "d9b0bcab-27ab-4ea5-bcb0-a95ccb0cae1b",
   "metadata": {
    "tags": []
   },
   "outputs": [
    {
     "name": "stdout",
     "output_type": "stream",
     "text": [
      "(648440, 228)\n",
      "(199520, 228)\n",
      "(199520, 1)\n"
     ]
    }
   ],
   "source": [
    "if run_vars['predict'] == 'DelT':\n",
    "   norm_outputs_tr  = norm_outputs_DelT_tr\n",
    "   norm_outputs_val = norm_outputs_DelT_val\n",
    "\n",
    "elif run_vars['predict'] == 'Temp':\n",
    "   norm_outputs_tr = norm_outputs_Temp_tr\n",
    "   norm_outputs_val = norm_outputs_Temp_val\n",
    "\n",
    "print(norm_inputs_tr.shape)\n",
    "print(norm_inputs_val.shape)\n",
    "print(norm_outputs_val.shape)"
   ]
  },
  {
   "cell_type": "code",
   "execution_count": 7,
   "id": "a37276d1-c615-48ce-b732-e9fe6635ca33",
   "metadata": {
    "tags": []
   },
   "outputs": [
    {
     "name": "stdout",
     "output_type": "stream",
     "text": [
      "setting up model\n",
      "training model\n"
     ]
    }
   ],
   "source": [
    "print('setting up model')\n",
    "pkl_filename = '../outputs/models/'+model_name+'_pickle.pkl'\n",
    "if TrainModel:\n",
    "    print('training model')\n",
    "    \n",
    "    alpha_s = [0.001]\n",
    "    parameters = [{'alpha': alpha_s}]\n",
    "    n_folds=3\n",
    "   \n",
    "    lr = linear_model.Ridge(fit_intercept=False)\n",
    "    \n",
    "    lr = GridSearchCV(lr, param_grid=parameters, cv=n_folds, scoring='neg_mean_squared_error', refit=True)\n",
    "    \n",
    "    # fit the model\n",
    "    lr.fit(norm_inputs_tr, norm_outputs_tr)\n",
    "    lr.get_params()\n",
    "\n",
    "    # Write info on Alpha in file    \n",
    "    info_filename = '../outputs/models/'+model_name+'_info.txt'\n",
    "    info_file=open(info_filename,\"w\")\n",
    "    info_file.write(\"Best parameters set found on development set:\\n\")\n",
    "    info_file.write('\\n')\n",
    "    info_file.write(str(lr.best_params_)+'\\n')\n",
    "    info_file.write('\\n')\n",
    "    info_file.write(\"Grid scores on development set:\\n\")\n",
    "    info_file.write('\\n')\n",
    "    means = lr.cv_results_['mean_test_score']\n",
    "    stds = lr.cv_results_['std_test_score']\n",
    "    for mean, std, params in zip(means, stds, lr.cv_results_['params']):\n",
    "        info_file.write(\"%0.3f (+/-%0.03f) for %r \\n\" % (mean, std * 2, params))\n",
    "    info_file.write('')\n",
    "\n",
    "    # Store coeffs in an npz file\n",
    "    coef_filename = '../outputs/models/'+model_name+'_coefs.npz'\n",
    "    np.savez( coef_filename, np.asarray(lr.best_estimator_.intercept_), np.asarray(lr.best_estimator_.coef_) )\n",
    "\n",
    "    # pickle it\n",
    "    with open(pkl_filename, 'wb') as pckl_file:\n",
    "        pickle.dump(lr, pckl_file)"
   ]
  },
  {
   "cell_type": "code",
   "execution_count": 8,
   "id": "cdb00423-e5c4-45f1-a669-430d467f43f5",
   "metadata": {
    "tags": []
   },
   "outputs": [
    {
     "name": "stdout",
     "output_type": "stream",
     "text": [
      "opening ../outputs/models/alpha.001_3dLatLonDepUVBolSalEtaDnsPolyDeg1_Step1_PredictDelT_pickle.pkl\n",
      "predict values\n"
     ]
    }
   ],
   "source": [
    "with open(pkl_filename, 'rb') as file:\n",
    "    print('opening '+pkl_filename)\n",
    "    lr = pickle.load(file)\n",
    "\n",
    "# predict values\n",
    "print('predict values')\n",
    "norm_lr_predicted_tr = lr.predict(norm_inputs_tr).reshape(-1,1).astype('float64')\n",
    "norm_lr_predicted_val = lr.predict(norm_inputs_val).reshape(-1,1).astype('float64')"
   ]
  },
  {
   "cell_type": "code",
   "execution_count": 9,
   "id": "4347acab-cfad-49f3-9625-dac7e42848f6",
   "metadata": {
    "tags": []
   },
   "outputs": [
    {
     "name": "stdout",
     "output_type": "stream",
     "text": [
      "predict values\n"
     ]
    }
   ],
   "source": [
    "print('predict values')\n",
    "norm_lr_predicted_tr = lr.predict(norm_inputs_tr).reshape(-1,1).astype('float64')\n",
    "norm_lr_predicted_val = lr.predict(norm_inputs_val).reshape(-1,1).astype('float64')"
   ]
  },
  {
   "cell_type": "code",
   "execution_count": 10,
   "id": "47e23806-c547-4192-95d2-c2f7da21e237",
   "metadata": {
    "tags": []
   },
   "outputs": [],
   "source": [
    "mean_std_file = '../outputs/logs/SinglePoint_'+data_name+'_MeanStd.npz'\n",
    "zip_mean_std_file = mean_std_file+'.gz' \n",
    "if os.path.isfile(mean_std_file):\n",
    "   mean_std_data = np.load(mean_std_file)\n",
    "elif os.path.isfile(zip_mean_std_file):\n",
    "   os.system(\"gunzip %s\" % (zip_mean_std_file))\n",
    "   mean_std_data = np.load(mean_std_file)\n",
    "   os.system(\"gunzip %s\" % (mean_std_file))\n",
    "input_mean  = mean_std_data['arr_0']\n",
    "input_std   = mean_std_data['arr_1']\n",
    "output_DelT_mean = mean_std_data['arr_2']\n",
    "output_DelT_std  = mean_std_data['arr_3']\n",
    "output_Temp_mean = mean_std_data['arr_4']\n",
    "output_Temp_std  = mean_std_data['arr_5']"
   ]
  },
  {
   "cell_type": "code",
   "execution_count": 11,
   "id": "1f61c796-24b5-4003-9563-40dbe614637e",
   "metadata": {
    "tags": []
   },
   "outputs": [
    {
     "data": {
      "text/plain": [
       "106"
      ]
     },
     "execution_count": 11,
     "metadata": {},
     "output_type": "execute_result"
    }
   ],
   "source": [
    "if run_vars['predict'] == 'DelT':\n",
    "   output_mean = output_DelT_mean\n",
    "   output_std = output_DelT_std\n",
    "elif run_vars['predict'] == 'Temp':\n",
    "   output_mean = output_Temp_mean\n",
    "   output_std = output_Temp_std\n",
    "\n",
    "# define denormalising function\n",
    "def denormalise_data(norm_data,mean,std):\n",
    "    denorm_data = norm_data * std + mean\n",
    "    return denorm_data\n",
    "\n",
    "# denormalise the predictions and true outputs   \n",
    "denorm_lr_predicted_tr = denormalise_data(norm_lr_predicted_tr, output_mean, output_std)\n",
    "denorm_lr_predicted_val = denormalise_data(norm_lr_predicted_val, output_mean, output_std)\n",
    "denorm_outputs_tr = denormalise_data(norm_outputs_tr, output_mean, output_std)\n",
    "denorm_outputs_val = denormalise_data(norm_outputs_val, output_mean, output_std)\n",
    "\n",
    "del norm_outputs_tr\n",
    "del norm_outputs_val\n",
    "gc.collect()"
   ]
  },
  {
   "cell_type": "code",
   "execution_count": 12,
   "id": "eb834058-9899-41df-b0ba-593f186812a1",
   "metadata": {
    "tags": []
   },
   "outputs": [
    {
     "name": "stdout",
     "output_type": "stream",
     "text": [
      "get stats\n",
      "plot results\n",
      "plot results\n",
      "clim\n",
      "[[16.967073 ]\n",
      " [ 4.5871186]\n",
      " [ 4.6573954]\n",
      " [12.001598 ]\n",
      " [17.478577 ]]\n",
      "outputs_Temp\n",
      "[[16.980074 ]\n",
      " [ 4.5814347]\n",
      " [ 4.6574664]\n",
      " [12.025378 ]\n",
      " [17.472569 ]]\n",
      "predicted_Temp\n",
      "[[16.97980705]\n",
      " [ 4.58010487]\n",
      " [ 4.65754174]\n",
      " [12.02586825]\n",
      " [17.47296294]]\n",
      "plot results\n"
     ]
    },
    {
     "data": {
      "text/plain": [
       "12"
      ]
     },
     "execution_count": 12,
     "metadata": {},
     "output_type": "execute_result"
    }
   ],
   "source": [
    "#------------------\n",
    "# Assess the model\n",
    "#------------------\n",
    "# Calculate 'persistance' score - persistence prediction is just zero everywhere as we're predicting the trend\n",
    "predict_persistance_tr = np.zeros(denorm_outputs_tr.shape)\n",
    "predict_persistance_val = np.zeros(denorm_outputs_val.shape)\n",
    "\n",
    "if run_vars['predict'] == 'DelT':\n",
    "   np.save('./True_DelT', denorm_outputs_tr)\n",
    "   np.save('./Predicted_DelT', denorm_lr_predicted_tr)\n",
    "elif run_vars['predict'] == 'Temp':\n",
    "   np.save('./True_T', denorm_outputs_tr)\n",
    "   np.save('./Predicted_T', denorm_lr_predicted_tr)\n",
    "\n",
    "print('get stats')\n",
    "am.get_stats(model_name, \n",
    "             name1='Training', truth1=denorm_outputs_tr, exp1=denorm_lr_predicted_tr, pers1=predict_persistance_tr,\n",
    "             name2='Validation', truth2=denorm_outputs_val, exp2=denorm_lr_predicted_val, pers2=predict_persistance_val,\n",
    "             name='TrainVal')\n",
    "\n",
    "print('plot results')\n",
    "top    = max(max(denorm_outputs_tr), max(denorm_lr_predicted_tr), max(denorm_outputs_val), max(denorm_lr_predicted_val))\n",
    "top    = top + 0.1*abs(top)\n",
    "bottom = min(min(denorm_outputs_tr), min(denorm_lr_predicted_tr), min(denorm_outputs_val), min(denorm_lr_predicted_val))\n",
    "bottom = bottom - 0.1*abs(top)\n",
    "am.plot_scatter(model_name, denorm_outputs_tr, denorm_lr_predicted_tr, name='train', top=top, bottom=bottom, text='(a)')\n",
    "am.plot_scatter(model_name, denorm_outputs_val, denorm_lr_predicted_val, name='val', top=top, bottom=bottom, text='(b)')\n",
    "\n",
    "##-----------------------------------------------------------------------------------------------------------------\n",
    "## if training to predict DelT, Calc Stats on temperature rather than DelT for comparison of CCs with other papers\n",
    "##-----------------------------------------------------------------------------------------------------------------\n",
    "\n",
    "if run_vars['predict'] == 'DelT':\n",
    "   # denormalise inputs and true outputs   \n",
    "   denorm_outputs_Temp_tr = denormalise_data(norm_outputs_Temp_tr, output_Temp_mean, output_Temp_std)\n",
    "   denorm_outputs_Temp_val = denormalise_data(norm_outputs_Temp_val, output_Temp_mean, output_Temp_std)\n",
    "\n",
    "   # Take original Temp value as persistence forecast, and add DelT prediction to original value for predicted Temp field \n",
    "   predict_persistance_Temp_tr = orig_temp_tr.reshape(-1,1)\n",
    "   predict_persistance_Temp_val = orig_temp_val.reshape(-1,1)\n",
    "   denorm_lr_predicted_Temp_tr = orig_temp_tr.reshape(-1,1) + denorm_lr_predicted_tr\n",
    "   denorm_lr_predicted_Temp_val = orig_temp_val.reshape(-1,1) + denorm_lr_predicted_val\n",
    "\n",
    "   del norm_outputs_Temp_tr\n",
    "   del norm_outputs_Temp_val\n",
    "   gc.collect()\n",
    "\n",
    "   np.save('./True_T', denorm_outputs_Temp_tr)\n",
    "   np.save('./Predicted_T', denorm_lr_predicted_Temp_tr)\n",
    "\n",
    "   am.get_stats(model_name, \n",
    "                name1='Training', truth1=denorm_outputs_Temp_tr, exp1=denorm_lr_predicted_Temp_tr, pers1=predict_persistance_Temp_tr,\n",
    "                name2='Validation', truth2=denorm_outputs_Temp_val, exp2=denorm_lr_predicted_Temp_val, pers2=predict_persistance_Temp_val,\n",
    "                name='TrainVal_Temp')\n",
    "\n",
    "   print('plot results')\n",
    "   top    = max(max(denorm_outputs_Temp_tr), max(denorm_lr_predicted_Temp_tr), max(denorm_outputs_Temp_val), max(denorm_lr_predicted_Temp_val))\n",
    "   top    = top + 0.1*abs(top)\n",
    "   bottom = min(min(denorm_outputs_Temp_tr), min(denorm_lr_predicted_Temp_tr), min(denorm_outputs_Temp_val), min(denorm_lr_predicted_Temp_val))\n",
    "   bottom = bottom - 0.1*abs(top)\n",
    "   am.plot_scatter(model_name, denorm_outputs_Temp_tr, denorm_lr_predicted_Temp_tr, name='Temp_train', top=top, bottom=bottom, text='(a)')\n",
    "   am.plot_scatter(model_name, denorm_outputs_Temp_val, denorm_lr_predicted_Temp_val, name='Temp_val', top=top, bottom=bottom, text='(b)')\n",
    "\n",
    "   # Get stats and plot anomaly correlation coefficients\n",
    "\n",
    "   print('clim')\n",
    "   print(clim_temp_tr[:5])\n",
    "   print('outputs_Temp')\n",
    "   print(denorm_outputs_Temp_tr[:5])\n",
    "   print('predicted_Temp')\n",
    "   print(denorm_lr_predicted_Temp_tr[:5])\n",
    "\n",
    "   am.get_stats(model_name, \n",
    "                name1='Training', truth1=denorm_outputs_Temp_tr-clim_temp_tr, exp1=denorm_lr_predicted_Temp_tr-clim_temp_tr, \n",
    "                pers1=predict_persistance_Temp_tr-clim_temp_tr,\n",
    "                name2='Validation', truth2=denorm_outputs_Temp_val-clim_temp_val, exp2=denorm_lr_predicted_Temp_val-clim_temp_val,\n",
    "                pers2=predict_persistance_Temp_val-clim_temp_val,\n",
    "                name='TrainVal_AnomCCTemp')\n",
    "\n",
    "   print('plot results')\n",
    "   top    = max(max(denorm_outputs_Temp_tr-clim_temp_tr), max(denorm_lr_predicted_Temp_tr-clim_temp_tr),\n",
    "                max(denorm_outputs_Temp_val-clim_temp_val), max(denorm_lr_predicted_Temp_val-clim_temp_val))\n",
    "   top    = top + 0.1*abs(top)\n",
    "   bottom = min(min(denorm_outputs_Temp_tr-clim_temp_tr), min(denorm_lr_predicted_Temp_tr-clim_temp_tr), \n",
    "                min(denorm_outputs_Temp_val-clim_temp_val), min(denorm_lr_predicted_Temp_val-clim_temp_val))\n",
    "   bottom = bottom - 0.1*abs(top)\n",
    "   am.plot_scatter(model_name, denorm_outputs_Temp_tr-clim_temp_tr, denorm_lr_predicted_Temp_tr-clim_temp_tr, \n",
    "                   name='AnomCC_train', top=top, bottom=bottom, text='(a)')\n",
    "   am.plot_scatter(model_name, denorm_outputs_Temp_val-clim_temp_val, denorm_lr_predicted_Temp_val-clim_temp_val,\n",
    "                   name='AnomCC_val', top=top, bottom=bottom, text='(b)')\n",
    "\n",
    "del norm_inputs_tr\n",
    "del norm_inputs_val\n",
    "del norm_lr_predicted_tr\n",
    "del norm_lr_predicted_val\n",
    "gc.collect()"
   ]
  }
 ],
 "metadata": {
  "kernelspec": {
   "display_name": "Python 3 (ipykernel)",
   "language": "python",
   "name": "python3"
  },
  "language_info": {
   "codemirror_mode": {
    "name": "ipython",
    "version": 3
   },
   "file_extension": ".py",
   "mimetype": "text/x-python",
   "name": "python",
   "nbconvert_exporter": "python",
   "pygments_lexer": "ipython3",
   "version": "3.11.3"
  }
 },
 "nbformat": 4,
 "nbformat_minor": 5
}
